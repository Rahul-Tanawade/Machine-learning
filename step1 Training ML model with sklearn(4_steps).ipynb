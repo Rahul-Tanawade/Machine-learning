{
  "nbformat": 4,
  "nbformat_minor": 0,
  "metadata": {
    "colab": {
      "name": "part 2] Training a ML model with sklearn(4 steps).ipynb",
      "provenance": [],
      "collapsed_sections": [],
      "authorship_tag": "ABX9TyMjtY+KB6tH0C4tH6wU904L"
    },
    "kernelspec": {
      "name": "python3",
      "display_name": "Python 3"
    }
  },
  "cells": [
    {
      "cell_type": "code",
      "metadata": {
        "id": "BjQeBhCTgFCh"
      },
      "source": [
        "from sklearn.datasets import load_iris"
      ],
      "execution_count": null,
      "outputs": []
    },
    {
      "cell_type": "markdown",
      "metadata": {
        "id": "bpuDnXSnh6pk"
      },
      "source": [
        "\n",
        "Requirements for working with data in scikit-learn\n",
        "\n",
        "\n",
        "1.Features and response are separate objects\n",
        "\n",
        "2.Features and response should be numeric\n",
        "\n",
        "3.Features and response should be NumPy arrays\n",
        "\n",
        "4.Features and response should have specific shapes\n",
        "\n",
        "\n"
      ]
    },
    {
      "cell_type": "code",
      "metadata": {
        "id": "3Cgt4dFVgtf0",
        "colab": {
          "base_uri": "https://localhost:8080/"
        },
        "outputId": "22d012f0-0707-49e0-aa4e-a07917461035"
      },
      "source": [
        "iris=load_iris()\n",
        "\n",
        "X=iris.data #step 1\n",
        "y=iris.target#step 1\n",
        "\n",
        "print(X.shape)#step 4\n",
        "print(y.shape)#step 4\n",
        "print(type(X))#step 2 & 3\n",
        "print(type(y))#step 2 & 3"
      ],
      "execution_count": null,
      "outputs": [
        {
          "output_type": "stream",
          "text": [
            "(150, 4)\n",
            "(150,)\n",
            "<class 'numpy.ndarray'>\n",
            "<class 'numpy.ndarray'>\n"
          ],
          "name": "stdout"
        }
      ]
    },
    {
      "cell_type": "markdown",
      "metadata": {
        "id": "mKsWxw2OnO8X"
      },
      "source": [
        "**scikit-learn 4-step modeling pattern**\n",
        "**eg with KNN classifiction** "
      ]
    },
    {
      "cell_type": "markdown",
      "metadata": {
        "id": "ZgJQ8l4_l1RH"
      },
      "source": [
        "Step 1: Import the class you plan to use\n",
        "\n",
        "Step 2: \"Instantiate\" the \"estimator\""
      ]
    },
    {
      "cell_type": "code",
      "metadata": {
        "id": "v-ksL6Hxl29o",
        "colab": {
          "base_uri": "https://localhost:8080/"
        },
        "outputId": "0a45df62-bffd-413f-c352-491dc1964f59"
      },
      "source": [
        "from sklearn.neighbors import KNeighborsClassifier\n",
        "knn = KNeighborsClassifier(n_neighbors=1)\n",
        "print(knn)"
      ],
      "execution_count": null,
      "outputs": [
        {
          "output_type": "stream",
          "text": [
            "KNeighborsClassifier(algorithm='auto', leaf_size=30, metric='minkowski',\n",
            "                     metric_params=None, n_jobs=None, n_neighbors=1, p=2,\n",
            "                     weights='uniform')\n"
          ],
          "name": "stdout"
        }
      ]
    },
    {
      "cell_type": "markdown",
      "metadata": {
        "id": "-zcUbXzpmiDz"
      },
      "source": [
        "\n",
        "Step 3: Fit the model with data ( \"model training\")\n",
        "\n",
        "Model is learning the relationship between X and y\n",
        "Occurs in-place"
      ]
    },
    {
      "cell_type": "code",
      "metadata": {
        "id": "Hoegat3dml9D",
        "colab": {
          "base_uri": "https://localhost:8080/"
        },
        "outputId": "33ef6a4c-d6e1-4a3c-c214-be9a6a9180fb"
      },
      "source": [
        "knn.fit(X,y)"
      ],
      "execution_count": null,
      "outputs": [
        {
          "output_type": "execute_result",
          "data": {
            "text/plain": [
              "KNeighborsClassifier(algorithm='auto', leaf_size=30, metric='minkowski',\n",
              "                     metric_params=None, n_jobs=None, n_neighbors=1, p=2,\n",
              "                     weights='uniform')"
            ]
          },
          "metadata": {
            "tags": []
          },
          "execution_count": 12
        }
      ]
    },
    {
      "cell_type": "markdown",
      "metadata": {
        "id": "F4KyIBwfm0oc"
      },
      "source": [
        "Step 4: Predict the response for a new observation"
      ]
    },
    {
      "cell_type": "code",
      "metadata": {
        "id": "w6OM1v80m4eO",
        "colab": {
          "base_uri": "https://localhost:8080/"
        },
        "outputId": "17957b2f-d560-46b5-83f8-3bfd8d054f8f"
      },
      "source": [
        "knn.predict([[3, 5, 4, 2]])"
      ],
      "execution_count": null,
      "outputs": [
        {
          "output_type": "execute_result",
          "data": {
            "text/plain": [
              "array([2])"
            ]
          },
          "metadata": {
            "tags": []
          },
          "execution_count": 13
        }
      ]
    },
    {
      "cell_type": "code",
      "metadata": {
        "id": "3Kg2IkYEpCia",
        "colab": {
          "base_uri": "https://localhost:8080/"
        },
        "outputId": "c3200a36-c991-49ce-f8ef-2de85f3fec89"
      },
      "source": [
        "X_new = [[3, 5, 4, 2], [5, 4, 3, 2]]\n",
        "knn.predict(X_new)"
      ],
      "execution_count": null,
      "outputs": [
        {
          "output_type": "execute_result",
          "data": {
            "text/plain": [
              "array([2, 1])"
            ]
          },
          "metadata": {
            "tags": []
          },
          "execution_count": 17
        }
      ]
    },
    {
      "cell_type": "markdown",
      "metadata": {
        "id": "p4SXXr5PnGbr"
      },
      "source": [
        "**Using a different classification model:logistic Regression**\n"
      ]
    },
    {
      "cell_type": "code",
      "metadata": {
        "id": "E0wIz5oenkG2"
      },
      "source": [
        "from sklearn.linear_model  import LogisticRegression#step 1\n",
        "lr=LogisticRegression()#step 2,# instantiate the model (using the default parameters)\n",
        "lr.fit(X,y)#step 2\n",
        "lr.predict(X_new)#step 4"
      ],
      "execution_count": null,
      "outputs": []
    }
  ]
}